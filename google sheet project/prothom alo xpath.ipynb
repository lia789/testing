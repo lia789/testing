{
 "cells": [
  {
   "cell_type": "code",
   "execution_count": 1,
   "id": "39c747b2-ed53-42a3-bb12-8a33d808af2c",
   "metadata": {},
   "outputs": [],
   "source": [
    "from parsel import Selector"
   ]
  },
  {
   "cell_type": "code",
   "execution_count": 2,
   "id": "cf3451fd-e082-4ccf-80fb-9c5864a0aa94",
   "metadata": {
    "collapsed": true,
    "jupyter": {
     "outputs_hidden": true
    },
    "tags": []
   },
   "outputs": [
    {
     "name": "stdin",
     "output_type": "stream",
     "text": [
      "Enter <div id=\"container\"><div><div id=\"section-meta-wrapper\" class=\"_8LSK2\"><div class=\"CaMFg\"><h1 class=\"bRste\">সর্বশেষ</h1></div></div><div class=\"two-stories-with-load-more-wrapper hOSPD\"><div class=\"space-hide-mobile kjOdx\"></div><div class=\"stories-set gqNK1\"><div class=\"left_image_right_news news_item wMFhj\"><a aria-label=\"ছাত্রদলের কমিটি ঘোষণার পর নরসিংদী জেলা বিএনপি কার্যালয়ে ভাঙচুর, অগ্নিসংযোগ\" class=\"card-with-image-zoom\" href=\"https://www.prothomalo.com/bangladesh/district/ampmfqopz4\"><div class=\"left-image _6HEAn\"><div style=\"background-image:url(/media-placeholder.svg)\" class=\"qt-image-dynamic image3x2 card-image-wrapper JCQpo _8mCoa UUq0z\"><figure class=\"qt-figure\"><picture class=\"qt-image zoom-desktop default\"><img src=\"https://images.prothomalo.com/prothomalo-bangla%2F2023-01%2Fb27d22ca-8b63-4b3a-8343-1a5adae4036d%2FSylhet_DH0720_20230126_narsingdi_bnp_office_6.jpg?rect=162%2C0%2C1715%2C1143&amp;auto=format%2Ccompress&amp;fmt=webp&amp;format=webp&amp;w=160&amp;dpr=1.0\" data-src=\"https://images.prothomalo.com/prothomalo-bangla%2F2023-01%2Fb27d22ca-8b63-4b3a-8343-1a5adae4036d%2FSylhet_DH0720_20230126_narsingdi_bnp_office_6.jpg?rect=162%2C0%2C1715%2C1143&amp;auto=format%2Ccompress&amp;fmt=webp\" type=\"image/webp\" sizes=\"( max-width: 500px ) 98%, ( max-width: 875px ) 48%, 23%\" class=\"qt-image image gm-added gm-loaded gm-observing gm-observing-cb\" data-bg=\"/media-placeholder.svg\" fetchpriority=\"low\" alt=\"নরসিংদী জেলা বিএনপি কার্যালয়ে ভাঙচুর হয়েছে। গতকাল বৃহস্পতিবার রাতে\" style=\"background-image: url(&quot;/media-placeholder.svg&quot;);\"><noscript></noscript></picture></figure><span class=\"story-type-wrapper hOVEa\"></span></div></div><div class=\"content-area\"><h3 class=\"headline-title  _1d6-d\"><span class=\"tilte-no-link-parent\"> ছাত্রদলের কমিটি ঘোষণার পর নরসিংদী জেলা বিএনপি কার্যালয়ে ভাঙচুর, অগ্নিসংযোগ</span></h3><div><div class=\"story-meta-data sONJ0\"><time class=\"published-time fw8bp\">১৫ মিনিট আগে</time></div></div></div></a></div><div class=\"left_image_right_news news_item wMFhj\"><a aria-label=\"‘ডেলিভারি বয়’ থেকে সফল ফ্রিল্যান্সার সিঙ্গাইরের আলমগীর\" class=\"card-with-image-zoom\" href=\"https://www.prothomalo.com/video/bangladesh/s3a9stdyu6\"><div class=\"left-image _6HEAn\"><div style=\"background-image:url(/media-placeholder.svg)\" class=\"qt-image-dynamic image3x2 card-image-wrapper JCQpo _8mCoa UUq0z\"><figure class=\"qt-figure\"><picture class=\"qt-image zoom-desktop default\"><img src=\"https://images.prothomalo.com/prothomalo-bangla%2F2023-01%2Fdd983486-f10e-4ae9-9757-1b7e50cf3353%2Fmaxresdefault__4_.jpg?rect=0%2C0%2C1080%2C720&amp;auto=format%2Ccompress&amp;fmt=webp&amp;format=webp&amp;w=160&amp;dpr=1.0\" data-src=\"https://images.prothomalo.com/prothomalo-bangla%2F2023-01%2Fdd983486-f10e-4ae9-9757-1b7e50cf3353%2Fmaxresdefault__4_.jpg?rect=0%2C0%2C1080%2C720&amp;auto=format%2Ccompress&amp;fmt=webp\" type=\"image/webp\" sizes=\"( max-width: 500px ) 98%, ( max-width: 875px ) 48%, 23%\" class=\"qt-image image gm-added gm-loaded gm-observing gm-observing-cb\" data-bg=\"/media-placeholder.svg\" fetchpriority=\"low\" alt=\"‘ডেলিভারি বয়’ থেকে সফল ফ্রিল্যান্সার সিঙ্গাইরের আলমগীর\" style=\"background-image: url(&quot;/media-placeholder.svg&quot;);\"><noscript></noscript></picture></figure><span class=\"story-type-wrapper hOVEa\"><svg class=\"video-whitebg _0OvNG\" preserveAspectRatio=\"none\"><use href=\"/prothomalo/assets/svg-sprite-6319195312be113f67aad66049fb3f34.svg#video-whitebg\"></use></svg></span></div></div><div class=\"content-area\"><h3 class=\"headline-title  _1d6-d\"><span class=\"tilte-no-link-parent\"> ‘ডেলিভারি বয়’ থেকে সফল ফ্রিল্যান্সার সিঙ্গাইরের আলমগীর</span></h3><div><div class=\"story-meta-data sONJ0\"><time class=\"published-time fw8bp\">১৭ মিনিট আগে</time></div></div></div></a></div><div class=\"left_image_right_news news_item wMFhj\"><a aria-label=\"কিশোরদের ফুটবল খেলা নিয়ে দুই গ্রামের বাসিন্দাদের সংঘর্ষ, পুলিশসহ আহত ১৫\" class=\"card-with-image-zoom\" href=\"https://www.prothomalo.com/bangladesh/district/ml232kwfrl\"><div class=\"left-image _6HEAn\"><div style=\"background-image:url(/media-placeholder.svg)\" class=\"qt-image-dynamic image3x2 card-image-wrapper JCQpo _8mCoa UUq0z\"><figure class=\"qt-figure\"><picture class=\"qt-image zoom-desktop default\"><img src=\"https://images.prothomalo.com/prothomalo-bangla%2F2023-01%2Fe220abff-2533-4d6c-a38e-fef45c86195b%2FMadaripur_DH0699_20230127_Madaripur_Pic_03.jpg?rect=33%2C0%2C903%2C602&amp;auto=format%2Ccompress&amp;fmt=webp&amp;format=webp&amp;w=160&amp;dpr=1.0\" data-src=\"https://images.prothomalo.com/prothomalo-bangla%2F2023-01%2Fe220abff-2533-4d6c-a38e-fef45c86195b%2FMadaripur_DH0699_20230127_Madaripur_Pic_03.jpg?rect=33%2C0%2C903%2C602&amp;auto=format%2Ccompress&amp;fmt=webp\" type=\"image/webp\" sizes=\"( max-width: 500px ) 98%, ( max-width: 875px ) 48%, 23%\" class=\"qt-image image gm-added gm-loaded gm-observing gm-observing-cb\" data-bg=\"/media-placeholder.svg\" fetchpriority=\"low\" alt=\"সংঘর্ষের ঘটনায় দুই পক্ষের অন্তত ১৫ জন আহত হয়েছেন। গতকাল বৃহস্পতিবার রাত ১১টার দিকে মাদারীপুর সদর হাসপাতালে\" style=\"background-image: url(&quot;/media-placeholder.svg&quot;);\"><noscript></noscript></picture></figure><span class=\"story-type-wrapper hOVEa\"></span></div></div><div class=\"content-area\"><h3 class=\"headline-title  _1d6-d\"><span class=\"tilte-no-link-parent\"> কিশোরদের ফুটবল খেলা নিয়ে দুই গ্রামের বাসিন্দাদের সংঘর্ষ, পুলিশসহ আহত ১৫</span></h3><div><div class=\"story-meta-data sONJ0\"><time class=\"published-time fw8bp\">২৫ মিনিট আগে</time></div></div></div></a></div><div class=\"left_image_right_news news_item wMFhj\"><a aria-label=\"দেশে মূল্যস্ফীতি বাড়বে, প্রবৃদ্ধি কমে যাবে\" class=\"card-with-image-zoom\" href=\"https://www.prothomalo.com/business/hfl3f5bxc8\"><div class=\"left-image _6HEAn\"><div style=\"background-image:url(/media-placeholder.svg)\" class=\"qt-image-dynamic image3x2 card-image-wrapper JCQpo _8mCoa UUq0z\"><figure class=\"qt-figure\"><picture class=\"qt-image zoom-desktop default\"><img src=\"https://images.prothomalo.com/prothomalo-bangla%2F2022-06%2F7119b225-9468-4ee8-afc8-7166c2c75df0%2Fd75b62df-3a8b-4d7c-ba5b-dfb827ea6f9c.jpg?rect=0%2C0%2C1600%2C1067&amp;auto=format%2Ccompress&amp;fmt=webp&amp;format=webp&amp;w=160&amp;dpr=1.0\" data-src=\"https://images.prothomalo.com/prothomalo-bangla%2F2022-06%2F7119b225-9468-4ee8-afc8-7166c2c75df0%2Fd75b62df-3a8b-4d7c-ba5b-dfb827ea6f9c.jpg?rect=0%2C0%2C1600%2C1067&amp;auto=format%2Ccompress&amp;fmt=webp\" type=\"image/webp\" sizes=\"( max-width: 500px ) 98%, ( max-width: 875px ) 48%, 23%\" class=\"qt-image image gm-added gm-loaded gm-observing gm-observing-cb\" data-bg=\"/media-placeholder.svg\" fetchpriority=\"low\" alt=\"মূল্যস্ফীতি\" style=\"background-image: url(&quot;/media-placeholder.svg&quot;);\"><noscript></noscript></picture></figure><span class=\"story-type-wrapper hOVEa\"></span></div></div><div class=\"content-area\"><h3 class=\"headline-title  _1d6-d\"><span class=\"tilte-no-link-parent\"><span class=\"sub-title _4ckrT\">জাতিসংঘের প্রতিবেদন</span> দেশে মূল্যস্ফীতি বাড়বে, প্রবৃদ্ধি কমে যাবে</span></h3><div><div class=\"story-meta-data sONJ0\"><time class=\"published-time fw8bp\">৩৬ মিনিট আগে</time></div></div></div></a></div><div class=\"left_image_right_news news_item wMFhj\"><a aria-label=\"যুক্তরাষ্ট্রে কৃষ্ণাঙ্গ তরুণের মৃত্যু: পুলিশের ৫ কর্মকর্তার বিরুদ্ধে হত্যার অভিযোগ\" class=\"card-with-image-zoom\" href=\"https://www.prothomalo.com/world/usa/ngclpjozyw\"><div class=\"left-image _6HEAn\"><div style=\"background-image:url(/media-placeholder.svg)\" class=\"qt-image-dynamic image3x2 card-image-wrapper JCQpo _8mCoa UUq0z\"><figure class=\"qt-figure\"><picture class=\"qt-image zoom-desktop default\"><img src=\"https://images.prothomalo.com/prothomalo-bangla%2F2023-01%2Fccfcb3e1-1b6e-421b-944a-796ad9e9eb00%2FMemphis_police.webp?rect=57%2C0%2C824%2C549&amp;auto=format%2Ccompress&amp;fmt=webp&amp;format=webp&amp;w=160&amp;dpr=1.0\" data-src=\"https://images.prothomalo.com/prothomalo-bangla%2F2023-01%2Fccfcb3e1-1b6e-421b-944a-796ad9e9eb00%2FMemphis_police.webp?rect=57%2C0%2C824%2C549&amp;auto=format%2Ccompress&amp;fmt=webp\" type=\"image/webp\" sizes=\"( max-width: 500px ) 98%, ( max-width: 875px ) 48%, 23%\" class=\"qt-image image gm-added gm-loaded gm-observing gm-observing-cb\" data-bg=\"/media-placeholder.svg\" fetchpriority=\"low\" alt=\"মেমফিস পুলিশ বিভাগের সাবেক পাঁচ কর্মকর্তা\" style=\"background-image: url(&quot;/media-placeholder.svg&quot;);\"><noscript></noscript></picture></figure><span class=\"story-type-wrapper hOVEa\"></span></div></div><div class=\"content-area\"><h3 class=\"headline-title  _1d6-d\"><span class=\"tilte-no-link-parent\"> যুক্তরাষ্ট্রে কৃষ্ণাঙ্গ তরুণের মৃত্যু: পুলিশের ৫ কর্মকর্তার বিরুদ্ধে হত্যার অভিযোগ</span></h3><div><div class=\"story-meta-data sONJ0\"><time class=\"published-time fw8bp\">৩৬ মিনিট আগে</time></div></div></div></a></div><div class=\"adsBox VQSRB\"><div class=\"n449Y\"><div class=\"dfp-ad-unit\"><div class=\"adunitContainer\"><div class=\" adBox\" id=\"News_336x280_R1-Stories2AdWithLoadMore-5-1\"></div></div></div></div></div><div class=\"left_image_right_news news_item wMFhj\"><a aria-label=\"এই ক্যানসারে নারীদের তুলনায় পুরুষেরা বেশি আক্রান্ত হন\" class=\"card-with-image-zoom\" href=\"https://www.prothomalo.com/lifestyle/health/2drghm9jvu\"><div class=\"left-image _6HEAn\"><div style=\"background-image:url(/media-placeholder.svg)\" class=\"qt-image-dynamic image3x2 card-image-wrapper JCQpo _8mCoa UUq0z\"><figure class=\"qt-figure\"><picture class=\"qt-image zoom-desktop default\"><img src=\"https://images.prothomalo.com/prothomalo-bangla%2F2023-01%2Fa5105e94-b719-4795-95f1-9487f6e836bf%2Ffemale_doctor_holding_purple_ribbon_esophageal_cancer_4x3.jpg?rect=275%2C0%2C1166%2C777&amp;auto=format%2Ccompress&amp;fmt=webp&amp;format=webp&amp;w=160&amp;dpr=1.0\" data-src=\"https://images.prothomalo.com/prothomalo-bangla%2F2023-01%2Fa5105e94-b719-4795-95f1-9487f6e836bf%2Ffemale_doctor_holding_purple_ribbon_esophageal_cancer_4x3.jpg?rect=275%2C0%2C1166%2C777&amp;auto=format%2Ccompress&amp;fmt=webp\" type=\"image/webp\" sizes=\"( max-width: 500px ) 98%, ( max-width: 875px ) 48%, 23%\" class=\"qt-image image gm-added gm-loaded gm-observing gm-observing-cb\" data-bg=\"/media-placeholder.svg\" fetchpriority=\"low\" alt=\"এই ক্যানসারে নারীদের তুলনায় পুরুষেরা বেশি আক্রান্ত হন\" style=\"background-image: url(&quot;/media-placeholder.svg&quot;);\"><noscript></noscript></picture></figure><span class=\"story-type-wrapper hOVEa\"></span></div></div><div class=\"content-area\"><h3 class=\"headline-title  _1d6-d\"><span class=\"tilte-no-link-parent\"> এই ক্যানসারে নারীদের তুলনায় পুরুষেরা বেশি আক্রান্ত হন</span></h3><div><div class=\"story-meta-data sONJ0\"><time class=\"published-time fw8bp\">৩৯ মিনিট আগে</time></div></div></div></a></div><div class=\"left_image_right_news news_item wMFhj\"><a aria-label=\"জহির রায়হানের অগ্রন্থিত গল্পঃ মনের মতো বউ\" class=\"card-with-image-zoom\" href=\"https://www.prothomalo.com/onnoalo/9tfy7rbloz\"><div class=\"left-image _6HEAn\"><div style=\"background-image:url(/media-placeholder.svg)\" class=\"qt-image-dynamic image3x2 card-image-wrapper JCQpo _8mCoa UUq0z\"><figure class=\"qt-figure\"><picture class=\"qt-image zoom-desktop default\"><img src=\"https://images.prothomalo.com/prothomalo-bangla%2F2023-01%2F8133ab5b-bd66-445c-94bd-eb5d726c620e%2Fmoner_moto_bou.jpg?rect=0%2C0%2C3000%2C2000&amp;auto=format%2Ccompress&amp;fmt=webp&amp;format=webp&amp;w=100&amp;dpr=1.0\" data-src=\"https://images.prothomalo.com/prothomalo-bangla%2F2023-01%2F8133ab5b-bd66-445c-94bd-eb5d726c620e%2Fmoner_moto_bou.jpg?rect=0%2C0%2C3000%2C2000&amp;auto=format%2Ccompress&amp;fmt=webp\" type=\"image/webp\" sizes=\"( max-width: 500px ) 98%, ( max-width: 875px ) 48%, 23%\" class=\"qt-image image gm-added gm-loaded gm-observing gm-observing-cb\" data-bg=\"/media-placeholder.svg\" fetchpriority=\"low\" alt=\"জহির রায়হানের অগ্রন্থিত গল্পঃ মনের মতো বউ\" style=\"background-image: url(&quot;/media-placeholder.svg&quot;);\"><noscript></noscript></picture></figure><span class=\"story-type-wrapper hOVEa\"></span></div></div><div class=\"content-area\"><h3 class=\"headline-title  _1d6-d\"><span class=\"tilte-no-link-parent\"> জহির রায়হানের অগ্রন্থিত গল্পঃ মনের মতো বউ</span></h3><div><div class=\"story-meta-data sONJ0\"><time class=\"published-time fw8bp\">৩৯ মিনিট আগে</time></div></div></div></a></div><div class=\"left_image_right_news news_item wMFhj\"><a aria-label=\"চাঁপাইনবাবগঞ্জ-২ উপনির্বাচন বর্জনের আহ্বান জানিয়ে মাঠে নেমেছে বিএনপি\" class=\"card-with-image-zoom\" href=\"https://www.prothomalo.com/bangladesh/district/drvon55sfw\"><div class=\"left-image _6HEAn\"><div style=\"background-image:url(/media-placeholder.svg)\" class=\"qt-image-dynamic image3x2 card-image-wrapper JCQpo _8mCoa UUq0z\"><figure class=\"qt-figure\"><picture class=\"qt-image zoom-desktop default\"><img src=\"https://images.prothomalo.com/prothomalo-bangla%2F2023-01%2F1758f45d-7562-4354-974d-ba97da4bb03c%2FCHAPAINAWABGONJ_DH0603_20230126_WHATSAPP_IMAGE_2023_01_26_AT_5_56_44_AM_JPG.JPG?rect=0%2C0%2C1600%2C1067&amp;auto=format%2Ccompress&amp;fmt=webp&amp;format=webp&amp;w=200&amp;dpr=1.0\" data-src=\"https://images.prothomalo.com/prothomalo-bangla%2F2023-01%2F1758f45d-7562-4354-974d-ba97da4bb03c%2FCHAPAINAWABGONJ_DH0603_20230126_WHATSAPP_IMAGE_2023_01_26_AT_5_56_44_AM_JPG.JPG?rect=0%2C0%2C1600%2C1067&amp;auto=format%2Ccompress&amp;fmt=webp\" type=\"image/webp\" sizes=\"( max-width: 500px ) 98%, ( max-width: 875px ) 48%, 23%\" class=\"qt-image image gm-added gm-loaded gm-observing gm-observing-cb\" data-bg=\"/media-placeholder.svg\" fetchpriority=\"low\" alt=\"নির্বাচন বর্জনের আহ্বান জানিয়ে নাচোল উপজেলা বিএনপির গণসংযোগ। গতকাল বৃহস্পতিবার বিকেলে চাঁপাইনবাবগঞ্জের নাচোল উপজেলার নেজামপুর ইউপির দোগাছিতে\" style=\"background-image: url(&quot;/media-placeholder.svg&quot;);\"><noscript></noscript></picture></figure><span class=\"story-type-wrapper hOVEa\"></span></div></div><div class=\"content-area\"><h3 class=\"headline-title  _1d6-d\"><span class=\"tilte-no-link-parent\"> চাঁপাইনবাবগঞ্জ-২ উপনির্বাচন বর্জনের আহ্বান জানিয়ে মাঠে নেমেছে বিএনপি</span></h3><div><div class=\"story-meta-data sONJ0\"><time class=\"published-time fw8bp\">৪১ মিনিট আগে</time></div></div></div></a></div><div class=\"left_image_right_news news_item wMFhj\"><a aria-label=\"কীভাবে খাবারে আয়োডিন রক্ষা করবেন&nbsp;\" class=\"card-with-image-zoom\" href=\"https://www.prothomalo.com/lifestyle/health/41mq5r43lt\"><div class=\"left-image _6HEAn\"><div style=\"background-image:url(/media-placeholder.svg)\" class=\"qt-image-dynamic image3x2 card-image-wrapper JCQpo _8mCoa UUq0z\"><figure class=\"qt-figure\"><picture class=\"qt-image zoom-desktop default\"><div style=\"height:50px\"></div></picture></figure><span class=\"story-type-wrapper hOVEa\"></span></div></div><div class=\"content-area\"><h3 class=\"headline-title  _1d6-d\"><span class=\"tilte-no-link-parent\"><span class=\"sub-title _4ckrT\">ভালো থাকুন</span> কীভাবে খাবারে আয়োডিন রক্ষা করবেন</span></h3><div><div class=\"story-meta-data sONJ0\"><time class=\"published-time fw8bp\">১ ঘণ্টা আগে</time></div></div></div></a></div><div class=\"left_image_right_news news_item wMFhj\"><a aria-label=\"৬৮ হাজার শিক্ষক নিয়োগের চতুর্থ গণবিজ্ঞপ্তিতে যা আছে, যা নেই\" class=\"card-with-image-zoom\" href=\"https://www.prothomalo.com/chakri/chakri-news/93aauc4erz\"><div class=\"left-image _6HEAn\"><div style=\"background-image:url(/media-placeholder.svg)\" class=\"qt-image-dynamic image3x2 card-image-wrapper JCQpo _8mCoa UUq0z\"><figure class=\"qt-figure\"><picture class=\"qt-image zoom-desktop default\"><div style=\"height:50px\"></div></picture></figure><span class=\"story-type-wrapper hOVEa\"></span></div></div><div class=\"content-area\"><h3 class=\"headline-title  _1d6-d\"><span class=\"tilte-no-link-parent\"> ৬৮ হাজার শিক্ষক নিয়োগের চতুর্থ গণবিজ্ঞপ্তিতে যা আছে, যা নেই</span></h3><div><div class=\"story-meta-data sONJ0\"><time class=\"published-time fw8bp\">১ ঘণ্টা আগে</time></div></div></div></a></div><div class=\"left_image_right_news news_item wMFhj\"><a aria-label=\"দূষিত শহরের তালিকায় আবার শীর্ষে ঢাকা\" class=\"card-with-image-zoom\" href=\"https://www.prothomalo.com/bangladesh/environment/0dkd5hjiiy\"><div class=\"left-image _6HEAn\"><div style=\"background-image:url(/media-placeholder.svg)\" class=\"qt-image-dynamic image3x2 card-image-wrapper JCQpo _8mCoa UUq0z\"><figure class=\"qt-figure\"><picture class=\"qt-image zoom-desktop default\"><div style=\"height:50px\"></div></picture></figure><span class=\"story-type-wrapper hOVEa\"></span></div></div><div class=\"content-area\"><h3 class=\"headline-title  _1d6-d\"><span class=\"tilte-no-link-parent\"> দূষিত শহরের তালিকায় আবার শীর্ষে ঢাকা</span></h3><div><div class=\"story-meta-data sONJ0\"><time class=\"published-time fw8bp\">১ ঘণ্টা আগে</time></div></div></div></a></div><div class=\"left_image_right_news news_item wMFhj\"><a aria-label=\"শরীরের মেদ কমানোর শত্রু যেসব অভ্যাস\" class=\"card-with-image-zoom\" href=\"https://www.prothomalo.com/lifestyle/health/9isjb8wfjc\"><div class=\"left-image _6HEAn\"><div style=\"background-image:url(/media-placeholder.svg)\" class=\"qt-image-dynamic image3x2 card-image-wrapper JCQpo _8mCoa UUq0z\"><figure class=\"qt-figure\"><picture class=\"qt-image zoom-desktop default\"><div style=\"height:50px\"></div></picture></figure><span class=\"story-type-wrapper hOVEa\"></span></div></div><div class=\"content-area\"><h3 class=\"headline-title  _1d6-d\"><span class=\"tilte-no-link-parent\"> শরীরের মেদ কমানোর শত্রু যেসব অভ্যাস</span></h3><div><div class=\"story-meta-data sONJ0\"><time class=\"published-time fw8bp\">১ ঘণ্টা আগে</time></div></div></div></a></div><div class=\"left_image_right_news news_item wMFhj\"><a aria-label=\"সবচেয়ে চ্যালেঞ্জিং চরিত্র\" class=\"card-with-image-zoom\" href=\"https://www.prothomalo.com/entertainment/hollywood/rf1opnhplp\"><div class=\"left-image _6HEAn\"><div style=\"background-image:url(/media-placeholder.svg)\" class=\"qt-image-dynamic image3x2 card-image-wrapper JCQpo _8mCoa UUq0z\"><figure class=\"qt-figure\"><picture class=\"qt-image zoom-desktop default\"><div style=\"height:50px\"></div></picture></figure><span class=\"story-type-wrapper hOVEa\"></span></div></div><div class=\"content-area\"><h3 class=\"headline-title  _1d6-d\"><span class=\"tilte-no-link-parent\"> সবচেয়ে চ্যালেঞ্জিং চরিত্র</span></h3><div><div class=\"story-meta-data sONJ0\"><time class=\"published-time fw8bp\">১ ঘণ্টা আগে</time></div></div></div></a></div><div class=\"left_image_right_news news_item wMFhj\"><a aria-label=\"১০০ শয্যার ভবন আছে, কিন্তু অনুমোদন নেই&nbsp;\" class=\"card-with-image-zoom\" href=\"https://www.prothomalo.com/bangladesh/district/4pshgroiim\"><div class=\"left-image _6HEAn\"><div style=\"background-image:url(/media-placeholder.svg)\" class=\"qt-image-dynamic image3x2 card-image-wrapper JCQpo _8mCoa UUq0z\"><figure class=\"qt-figure\"><picture class=\"qt-image zoom-desktop default\"><div style=\"height:50px\"></div></picture></figure><span class=\"story-type-wrapper hOVEa\"></span></div></div><div class=\"content-area\"><h3 class=\"headline-title  _1d6-d\"><span class=\"tilte-no-link-parent\"><span class=\"sub-title _4ckrT\">ভৈরব স্বাস্থ্য কমপ্লেক্স</span> ১০০ শয্যার ভবন আছে, কিন্তু অনুমোদন নেই</span></h3><div><div class=\"story-meta-data sONJ0\"><time class=\"published-time fw8bp\">১ ঘণ্টা আগে</time></div></div></div></a></div><div class=\"left_image_right_news news_item wMFhj\"><a aria-label=\"দেড় মাস পর মাগুরা জেলা বিএনপির শীর্ষ দুই নেতা কারামুক্ত\" class=\"card-with-image-zoom\" href=\"https://www.prothomalo.com/bangladesh/district/k1bsc7r4mg\"><div class=\"left-image _6HEAn\"><div style=\"background-image:url(/media-placeholder.svg)\" class=\"qt-image-dynamic image3x2 card-image-wrapper JCQpo _8mCoa UUq0z\"><figure class=\"qt-figure\"><picture class=\"qt-image zoom-desktop default\"><div style=\"height:50px\"></div></picture></figure><span class=\"story-type-wrapper hOVEa\"></span></div></div><div class=\"content-area\"><h3 class=\"headline-title  _1d6-d\"><span class=\"tilte-no-link-parent\"> দেড় মাস পর মাগুরা জেলা বিএনপির শীর্ষ দুই নেতা কারামুক্ত</span></h3><div><div class=\"story-meta-data sONJ0\"><time class=\"published-time fw8bp\">১ ঘণ্টা আগে</time></div></div></div></a></div><div class=\"tNj8k\"><div class=\"more _7ZpjE\"><span class=\"load-more-content _7QoIj\">আরও</span></div></div></div><div class=\"adsBox\"><div class=\"side-ad vP0OC\"><div class=\"dfp-ad-unit\"><div class=\"adunitContainer\"><div class=\" adBox\" id=\"News_336x280_R2-Stories2AdWithLoadMore-side-ad-1-1\"></div></div></div></div></div></div></div></div>\n"
     ]
    }
   ],
   "source": [
    "html = input(\"Enter\")"
   ]
  },
  {
   "cell_type": "code",
   "execution_count": 3,
   "id": "67e431c5-d7c4-4a13-8d31-69cdd4049192",
   "metadata": {},
   "outputs": [],
   "source": [
    "response = Selector(text=html)"
   ]
  },
  {
   "cell_type": "code",
   "execution_count": 4,
   "id": "ba80101c-ea82-4e72-bb24-984a76e350ed",
   "metadata": {},
   "outputs": [
    {
     "data": {
      "text/plain": [
       "17"
      ]
     },
     "execution_count": 4,
     "metadata": {},
     "output_type": "execute_result"
    }
   ],
   "source": [
    "news_container = response.xpath(\"//div[@class='stories-set gqNK1']/div\")\n",
    "len(news_container)"
   ]
  },
  {
   "cell_type": "code",
   "execution_count": 12,
   "id": "b34b4867-de93-4d4f-99ce-121340158c44",
   "metadata": {},
   "outputs": [
    {
     "name": "stdout",
     "output_type": "stream",
     "text": [
      "https://www.prothomalo.com/bangladesh/district/ampmfqopz4\n",
      "https://www.prothomalo.com/video/bangladesh/s3a9stdyu6\n",
      "https://www.prothomalo.com/bangladesh/district/ml232kwfrl\n",
      "https://www.prothomalo.com/business/hfl3f5bxc8\n",
      "https://www.prothomalo.com/world/usa/ngclpjozyw\n",
      "None\n",
      "https://www.prothomalo.com/lifestyle/health/2drghm9jvu\n",
      "https://www.prothomalo.com/onnoalo/9tfy7rbloz\n",
      "https://www.prothomalo.com/bangladesh/district/drvon55sfw\n",
      "https://www.prothomalo.com/lifestyle/health/41mq5r43lt\n",
      "https://www.prothomalo.com/chakri/chakri-news/93aauc4erz\n",
      "https://www.prothomalo.com/bangladesh/environment/0dkd5hjiiy\n",
      "https://www.prothomalo.com/lifestyle/health/9isjb8wfjc\n",
      "https://www.prothomalo.com/entertainment/hollywood/rf1opnhplp\n",
      "https://www.prothomalo.com/bangladesh/district/4pshgroiim\n",
      "https://www.prothomalo.com/bangladesh/district/k1bsc7r4mg\n",
      "None\n"
     ]
    }
   ],
   "source": [
    "for news in news_container:\n",
    "    title = news.xpath(\".//h3/span/text()\").get()\n",
    "    news_url = news.xpath(\".//a[@class='card-with-image-zoom']/@href\").get()\n",
    "    # print(title)\n",
    "    print(news_url)"
   ]
  },
  {
   "cell_type": "code",
   "execution_count": null,
   "id": "96cf4ea9-b0c8-478b-b899-b2fda86f34de",
   "metadata": {},
   "outputs": [],
   "source": []
  },
  {
   "cell_type": "code",
   "execution_count": null,
   "id": "1ba9954c-1d4c-4135-8f01-bd09da7a3942",
   "metadata": {},
   "outputs": [],
   "source": []
  }
 ],
 "metadata": {
  "kernelspec": {
   "display_name": "env",
   "language": "python",
   "name": "env"
  },
  "language_info": {
   "codemirror_mode": {
    "name": "ipython",
    "version": 3
   },
   "file_extension": ".py",
   "mimetype": "text/x-python",
   "name": "python",
   "nbconvert_exporter": "python",
   "pygments_lexer": "ipython3",
   "version": "3.9.13"
  }
 },
 "nbformat": 4,
 "nbformat_minor": 5
}

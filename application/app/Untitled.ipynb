{
 "cells": [
  {
   "cell_type": "code",
   "execution_count": 1,
   "id": "58a0c0a7-1576-45c5-9e5a-5929f0aa8532",
   "metadata": {
    "tags": []
   },
   "outputs": [],
   "source": [
    "import time\n",
    "import requests\n",
    "from scrapyd_api import ScrapydAPI\n",
    "\n",
    "\n",
    "scrapyd = ScrapydAPI('http://localhost:6800')\n",
    "scrapyd_server = \"http://localhost:6800/daemonstatus.json\"\n",
    "project_name = \"quotesbot\"\n",
    "spider_name = \"toscrape-xpath\""
   ]
  },
  {
   "cell_type": "code",
   "execution_count": 2,
   "id": "60c4d46d-44e7-499b-ae6c-09b6c18fc06f",
   "metadata": {
    "tags": []
   },
   "outputs": [
    {
     "data": {
      "text/plain": [
       "'42910c7ce68211ed94083fa9c3be83af'"
      ]
     },
     "execution_count": 2,
     "metadata": {},
     "output_type": "execute_result"
    }
   ],
   "source": [
    "scrapyd.schedule(project_name, spider_name)"
   ]
  },
  {
   "cell_type": "code",
   "execution_count": 3,
   "id": "bcddd5a3-c9c8-4c3e-a803-86b6d0f8f571",
   "metadata": {
    "tags": []
   },
   "outputs": [],
   "source": [
    "# time.sleep(2)\n",
    "response = requests.get(scrapyd_server)\n",
    "spider_status = response.json()"
   ]
  },
  {
   "cell_type": "code",
   "execution_count": 4,
   "id": "339e960f-c754-40e6-8d4b-5ede226ebae3",
   "metadata": {
    "tags": []
   },
   "outputs": [
    {
     "data": {
      "text/plain": [
       "{'node_name': 'lia', 'status': 'ok', 'pending': 1, 'running': 0, 'finished': 7}"
      ]
     },
     "execution_count": 4,
     "metadata": {},
     "output_type": "execute_result"
    }
   ],
   "source": [
    "spider_status"
   ]
  },
  {
   "cell_type": "code",
   "execution_count": 5,
   "id": "1a80947a-fae1-4d54-9eb6-e2d451e4e315",
   "metadata": {
    "tags": []
   },
   "outputs": [
    {
     "data": {
      "text/plain": [
       "0"
      ]
     },
     "execution_count": 5,
     "metadata": {},
     "output_type": "execute_result"
    }
   ],
   "source": [
    "spider_status[\"running\"]"
   ]
  },
  {
   "cell_type": "code",
   "execution_count": 6,
   "id": "7bd8d2de-7f9f-4970-8a6b-54f9fb80ef96",
   "metadata": {
    "tags": []
   },
   "outputs": [
    {
     "data": {
      "text/plain": [
       "1"
      ]
     },
     "execution_count": 6,
     "metadata": {},
     "output_type": "execute_result"
    }
   ],
   "source": [
    "spider_status[\"pending\"]\n",
    "\n"
   ]
  },
  {
   "cell_type": "code",
   "execution_count": 7,
   "id": "ae960a11-fa8d-4237-af77-45c891ab7da1",
   "metadata": {},
   "outputs": [],
   "source": [
    "def server_status():\n",
    "    time.sleep(3)\n",
    "    scrapyd_server = \"http://localhost:6800/daemonstatus.json\"\n",
    "    response = requests.get(scrapyd_server)\n",
    "    spider_status = response.json()\n",
    "\n",
    "    while spider_status[\"running\"] != 0 or spider_status[\"pending\"] != 0:\n",
    "        time.sleep(1.5)\n",
    "        response = requests.get(scrapyd_server)\n",
    "        spider_status = response.json()\n",
    "        print(\"Spider Running\")\n",
    "\n"
   ]
  },
  {
   "cell_type": "code",
   "execution_count": 8,
   "id": "8c2cf71e-a4fa-4837-a9ff-56900cd17741",
   "metadata": {
    "tags": []
   },
   "outputs": [
    {
     "name": "stdout",
     "output_type": "stream",
     "text": [
      "Spider Running\n",
      "Spider Running\n",
      "Spider Running\n",
      "Spider Running\n",
      "Spider Running\n",
      "Spider Running\n",
      "Spider Running\n",
      "Spider Running\n",
      "Spider Running\n",
      "Spider Running\n",
      "Spider Running\n",
      "Spider Running\n",
      "Spider Running\n",
      "Spider Running\n",
      "Spider Running\n"
     ]
    }
   ],
   "source": [
    "server_status()"
   ]
  },
  {
   "cell_type": "code",
   "execution_count": null,
   "id": "7df05e2b-37ad-47a9-b303-23d3bf6861c6",
   "metadata": {},
   "outputs": [],
   "source": []
  }
 ],
 "metadata": {
  "kernelspec": {
   "display_name": "env",
   "language": "python",
   "name": "env"
  },
  "language_info": {
   "codemirror_mode": {
    "name": "ipython",
    "version": 3
   },
   "file_extension": ".py",
   "mimetype": "text/x-python",
   "name": "python",
   "nbconvert_exporter": "python",
   "pygments_lexer": "ipython3",
   "version": "3.10.6"
  }
 },
 "nbformat": 4,
 "nbformat_minor": 5
}

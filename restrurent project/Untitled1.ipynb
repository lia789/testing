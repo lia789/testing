{
 "cells": [
  {
   "cell_type": "code",
   "execution_count": null,
   "id": "a0b30174-9226-43a7-8a99-d9c65534eb7a",
   "metadata": {},
   "outputs": [],
   "source": [
    "import json\n",
    "import csv\n",
    "\n",
    "\n",
    "# Open the JSON file\n",
    "with open('data.json') as json_file:\n",
    "    data = json.load(json_file)\n",
    "    \n",
    "    \n",
    "# Extract the data from the JSON file\n",
    "fields = data['fields']\n",
    "mar = data['markers']\n",
    "\n",
    "\n",
    "\n",
    "# Open the CSV file for writing\n",
    "with open('data.csv', 'w', newline='') as file:\n",
    "    writer = csv.writer(file)\n",
    "    \n",
    "    # Write the header row\n",
    "    writer.writerow(['name', 'owner', 'phone', 'website', 'email', 'logo', 'street', 'city', 'zip_code'])\n",
    "    \n",
    "    # Write the data rows\n",
    "    for i in range(0,433):\n",
    "        data = mar[i]\n",
    "        \n",
    "        logo_ = data['15']\n",
    "        if logo_ is not None:\n",
    "            logo_ = f\"https://admin.fitness-classification.ch/{data['15']}\"\n",
    "        else:\n",
    "            logo_ = None\n",
    "        \n",
    "        row = [\n",
    "            data[\"2\"],\n",
    "            data[\"5\"],\n",
    "            data[\"7\"],\n",
    "            data[\"11\"],\n",
    "            data[\"8\"],\n",
    "            logo_,\n",
    "            data[\"6\"],\n",
    "            data[\"10\"],\n",
    "            data[\"9\"]\n",
    "        ]\n",
    "        writer.writerow(row)\n",
    "\n",
    "print(\"CSV file created successfully!\")\n"
   ]
  },
  {
   "cell_type": "code",
   "execution_count": 1,
   "id": "a49f54c7-ade2-44ae-bfc2-34204f5bb8ea",
   "metadata": {
    "tags": []
   },
   "outputs": [
    {
     "name": "stdout",
     "output_type": "stream",
     "text": [
      "CSV file created successfully!\n"
     ]
    }
   ],
   "source": [
    "import json\n",
    "import csv\n",
    "\n",
    "# Open the JSON file\n",
    "with open('data.json') as json_file:\n",
    "    data = json.load(json_file)\n",
    "    \n",
    "# Extract the data from the JSON file\n",
    "fields = data['fields']\n",
    "mar = data['markers']\n",
    "\n",
    "# Open the CSV file for writing\n",
    "with open('data.csv', 'w', newline='') as file:\n",
    "    writer = csv.writer(file)\n",
    "    \n",
    "    # Write the header row\n",
    "    writer.writerow(['name', 'owner', 'phone', 'website', 'email', 'logo', 'street', 'city', 'zip_code'])\n",
    "    \n",
    "    # Write the data rows\n",
    "    for i in range(0,433):\n",
    "        data = mar[i]\n",
    "        \n",
    "        logo_ = data['15']\n",
    "        if logo_ is not None and \"/storage/media\" in logo_:\n",
    "            logo_ = f\"https://admin.fitness-classification.ch/{data['15']}\"\n",
    "        else:\n",
    "            logo_ = None\n",
    "        \n",
    "        row = [\n",
    "            data[\"2\"],\n",
    "            data[\"5\"],\n",
    "            data[\"7\"],\n",
    "            data[\"11\"],\n",
    "            data[\"8\"],\n",
    "            logo_,\n",
    "            data[\"6\"],\n",
    "            data[\"10\"],\n",
    "            data[\"9\"]\n",
    "        ]\n",
    "        writer.writerow(row)\n",
    "\n",
    "print(\"CSV file created successfully!\")\n"
   ]
  },
  {
   "cell_type": "code",
   "execution_count": null,
   "id": "4d96938a-a8fa-40d9-b934-20e804e39724",
   "metadata": {},
   "outputs": [],
   "source": []
  },
  {
   "cell_type": "code",
   "execution_count": null,
   "id": "6f1c75a8-abb6-4add-81fb-19cd62e8f2e4",
   "metadata": {},
   "outputs": [],
   "source": []
  }
 ],
 "metadata": {
  "kernelspec": {
   "display_name": "env",
   "language": "python",
   "name": "env"
  },
  "language_info": {
   "codemirror_mode": {
    "name": "ipython",
    "version": 3
   },
   "file_extension": ".py",
   "mimetype": "text/x-python",
   "name": "python",
   "nbconvert_exporter": "python",
   "pygments_lexer": "ipython3",
   "version": "3.10.6"
  }
 },
 "nbformat": 4,
 "nbformat_minor": 5
}

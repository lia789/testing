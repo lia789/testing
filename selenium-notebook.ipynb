{
 "cells": [
  {
   "cell_type": "code",
   "execution_count": null,
   "id": "b0eeb20e-0960-44bc-aa54-91a4df7afc15",
   "metadata": {},
   "outputs": [],
   "source": [
    "import time\n",
    "from parsel import Selector\n",
    "\n",
    "from selenium import webdriver\n",
    "from selenium.webdriver.chrome.service import Service\n",
    "from selenium.webdriver.chrome.options import Options\n",
    "from webdriver_manager.chrome import ChromeDriverManager\n"
   ]
  },
  {
   "cell_type": "code",
   "execution_count": null,
   "id": "b5303342-bca1-44f1-8b9b-be0a967eebc6",
   "metadata": {},
   "outputs": [],
   "source": [
    "options = Options()\n",
    "options.add_argument('--headless')\n",
    "options.add_argument('--no-sandbox')\n",
    "options.add_argument('--disable-dev-shm-usage')\n",
    "driver = webdriver.Chrome(service=Service(ChromeDriverManager().install()), options=options)"
   ]
  },
  {
   "cell_type": "code",
   "execution_count": null,
   "id": "1608b22d-0eb4-4f43-b8bb-79413a111311",
   "metadata": {},
   "outputs": [],
   "source": [
    "driver.get('https://streamelements.com/casinodaddy/store/')"
   ]
  },
  {
   "cell_type": "code",
   "execution_count": null,
   "id": "ad34ba38-6f70-4d29-acb5-7e3e4112cf17",
   "metadata": {},
   "outputs": [],
   "source": [
    "time.sleep(5)"
   ]
  },
  {
   "cell_type": "code",
   "execution_count": null,
   "id": "5cf88135-4625-4801-9628-a7b6e21ac4ee",
   "metadata": {},
   "outputs": [],
   "source": [
    "html = driver.page_source\n",
    "response = Selector(text=html)"
   ]
  },
  {
   "cell_type": "code",
   "execution_count": null,
   "id": "24b90c31-dfd5-4906-820c-7efc4d63c9ea",
   "metadata": {},
   "outputs": [],
   "source": [
    "//h2[@title='Gamdom $250 Gift Card']/..//p[@class='public item-quantity-left']/span/text()"
   ]
  },
  {
   "cell_type": "code",
   "execution_count": null,
   "id": "3999fe8a-f4f2-4c38-8ca1-24f5681f793f",
   "metadata": {
    "tags": []
   },
   "outputs": [],
   "source": [
    "_250_git_card_quantity = response.xpath(\"//h2[@title='Gamdom $250 Gift Card']/..//p[@class='public item-quantity-left']/span/text()\").get()\n",
    "_250_git_card_quantity"
   ]
  },
  {
   "cell_type": "code",
   "execution_count": null,
   "id": "20f5cc5c-7874-45af-a329-653f434e1dec",
   "metadata": {
    "tags": []
   },
   "outputs": [],
   "source": [
    "_100_git_card_quantity = response.xpath(\"//h2[@title='Gamdom $100 Gift Card']/..//p[@class='public item-quantity-left']/span/text()\").get()\n",
    "_100_git_card_quantity"
   ]
  },
  {
   "cell_type": "code",
   "execution_count": null,
   "id": "cc690405-2d9f-4bca-81d5-68bbb90efc80",
   "metadata": {
    "tags": []
   },
   "outputs": [],
   "source": [
    "_50_git_card_quantity = response.xpath(\"//h2[@title='Gamdom $50 Gift Card']/..//p[@class='public item-quantity-left']/span/text()\").get()\n",
    "_50_git_card_quantity"
   ]
  },
  {
   "cell_type": "code",
   "execution_count": null,
   "id": "0a78f999-cf6e-4a8a-95f8-ab244dd18261",
   "metadata": {
    "tags": []
   },
   "outputs": [],
   "source": [
    "_25_git_card_quantity = response.xpath(\"//h2[@title='Gamdom $25 Gift Card']/..//p[@class='public item-quantity-left']/span/text()\").get()\n",
    "_25_git_card_quantity"
   ]
  },
  {
   "cell_type": "code",
   "execution_count": null,
   "id": "011161c1-8ad8-4383-862d-b7760fa2e48a",
   "metadata": {
    "tags": []
   },
   "outputs": [],
   "source": [
    "_10_git_card_quantity = response.xpath(\"//h2[@title='Gamdom $10 Gift Card']/..//p[@class='public item-quantity-left']/span/text()\").get()\n",
    "_10_git_card_quantity"
   ]
  },
  {
   "cell_type": "code",
   "execution_count": null,
   "id": "849ce606-7a7a-4549-b0f8-899e6fa1ec4f",
   "metadata": {},
   "outputs": [],
   "source": [
    "driver.close()"
   ]
  },
  {
   "cell_type": "code",
   "execution_count": null,
   "id": "b96c0691-0abe-4a73-bed1-559bd4d7a5a3",
   "metadata": {},
   "outputs": [],
   "source": []
  },
  {
   "cell_type": "code",
   "execution_count": null,
   "id": "b17b9b39-17d2-4167-b8a2-bb32352624bc",
   "metadata": {},
   "outputs": [],
   "source": [
    "\"\"\"\n",
    "Discord code\n",
    "\"\"\""
   ]
  },
  {
   "cell_type": "code",
   "execution_count": null,
   "id": "3f3b0cc7-3653-4fe1-8ca4-c7779e13a113",
   "metadata": {},
   "outputs": [],
   "source": [
    "import discord\n",
    "from discord.ext import commands"
   ]
  },
  {
   "cell_type": "code",
   "execution_count": null,
   "id": "7e76acfd-1e7a-42cc-ac0a-14f7b7f4eb7a",
   "metadata": {},
   "outputs": [],
   "source": [
    "CHANNEL_ID = int(\"1120209779726487613\")\n",
    "TOKEN = \"MTEyMDM0NTY4ODM4ODE1NzQ3MQ.Gm_yGM.pzmDsTTHSDOVgj_k59vJs-BRSZ0KdVWOHXY8Vo\""
   ]
  },
  {
   "cell_type": "code",
   "execution_count": null,
   "id": "77106ba5-addf-41ac-ac3e-1eb12adafa7a",
   "metadata": {},
   "outputs": [],
   "source": [
    "# Discord setup code\n",
    "intents = discord.Intents.default()\n",
    "intents.typing = False\n",
    "intents.presences = False\n",
    "bot = commands.Bot(command_prefix='!', intents=intents)"
   ]
  },
  {
   "cell_type": "code",
   "execution_count": null,
   "id": "befe9499-bfb9-4b03-b568-97c2440fc81b",
   "metadata": {},
   "outputs": [],
   "source": [
    "@bot.event\n",
    "async def on_ready():\n",
    "    print(f'Logged in as {bot.user.name}')\n",
    "\n",
    "    # Replace 'YOUR_CHANNEL_ID' with the ID of the channel you want to send the message to\n",
    "    channel = bot.get_channel(CHANNEL_ID)\n",
    "\n",
    "    if channel:\n",
    "        price = 5\n",
    "\n",
    "        if price < 10:\n",
    "            embed = discord.Embed(\n",
    "                title=\"Gamdom Gift Cards Restocked!\",\n",
    "                url=\"https://streamelements.com/casinodaddy/store/\",\n",
    "                description=\"Good news! The Gamdom gift cards are back in stock on the store. Hurry, grab yours before they sell out again!\",\n",
    "                color=0xf91010\n",
    "                )\n",
    "            embed.set_thumbnail(url=\"https://i.postimg.cc/9Q4sKqvr/ambulance-lights.png\")\n",
    "            \n",
    "            embed.add_field(name=\"\", value=\"\", inline=False)\n",
    "\n",
    "        \n",
    "            await channel.purge(limit=None)\n",
    "            await channel.send(embed=embed)\n",
    "            print(\"===== Message send ======\")\n",
    "    else:\n",
    "        print('Channel not found.')"
   ]
  },
  {
   "cell_type": "code",
   "execution_count": null,
   "id": "19ea7520-9531-45a6-a772-79c3f4f462f4",
   "metadata": {},
   "outputs": [],
   "source": [
    "bot.run(TOKEN)"
   ]
  },
  {
   "cell_type": "code",
   "execution_count": null,
   "id": "da104b91-1a51-4ec6-b4a0-9cf3f47dae0f",
   "metadata": {},
   "outputs": [],
   "source": []
  },
  {
   "cell_type": "code",
   "execution_count": null,
   "id": "792f5901-0a25-4141-ad65-f74b1cdc26a9",
   "metadata": {},
   "outputs": [],
   "source": []
  },
  {
   "cell_type": "code",
   "execution_count": null,
   "id": "3e651d8a-cbf7-4aa9-96a7-4fd47a2509af",
   "metadata": {},
   "outputs": [],
   "source": []
  },
  {
   "cell_type": "code",
   "execution_count": null,
   "id": "b1caf476-881a-4a4c-b9b1-db7f1bd38fe3",
   "metadata": {},
   "outputs": [],
   "source": []
  }
 ],
 "metadata": {
  "kernelspec": {
   "display_name": "env",
   "language": "python",
   "name": "env"
  },
  "language_info": {
   "codemirror_mode": {
    "name": "ipython",
    "version": 3
   },
   "file_extension": ".py",
   "mimetype": "text/x-python",
   "name": "python",
   "nbconvert_exporter": "python",
   "pygments_lexer": "ipython3",
   "version": "3.10.6"
  }
 },
 "nbformat": 4,
 "nbformat_minor": 5
}

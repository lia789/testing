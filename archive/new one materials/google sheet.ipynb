{
 "cells": [
  {
   "cell_type": "code",
   "execution_count": 5,
   "id": "aadbf8ff-2ed3-45fc-ad3c-96834a2a1847",
   "metadata": {},
   "outputs": [],
   "source": [
    "import sqlite3\n",
    "import gspread"
   ]
  },
  {
   "cell_type": "markdown",
   "id": "c085cf4b-30f7-44b3-b1a2-24ce2e88d441",
   "metadata": {},
   "source": [
    "<br>"
   ]
  },
  {
   "cell_type": "markdown",
   "id": "520bdc39-02e0-43ab-aece-c03a3c719442",
   "metadata": {},
   "source": [
    "**Database Code**"
   ]
  },
  {
   "cell_type": "code",
   "execution_count": 6,
   "id": "6cb6d2c5-4981-4616-9b98-cd38be1342dc",
   "metadata": {},
   "outputs": [],
   "source": [
    "# Connect to the database\n",
    "connection = sqlite3.connect(\"prothomalo.db\")\n",
    "cursor = connection.cursor()\n",
    "\n",
    "# Execute the SELECT statement\n",
    "cursor.execute(\"SELECT headline, headline_url FROM news WHERE status = true;\")\n",
    "\n",
    "# Fetch all the rows as a list of tuples\n",
    "rows = cursor.fetchall()\n",
    "data = [[row[0], row[1]] for row in rows]\n",
    "cursor.execute(\"UPDATE news SET status = false WHERE status = true\")\n",
    "connection.commit()\n",
    "\n",
    "# Close the cursor and connection\n",
    "cursor.close()\n",
    "connection.close()"
   ]
  },
  {
   "cell_type": "code",
   "execution_count": 7,
   "id": "b10ab997-70e3-40da-94d1-37b3e7b38b32",
   "metadata": {},
   "outputs": [
    {
     "data": {
      "text/plain": [
       "[]"
      ]
     },
     "execution_count": 7,
     "metadata": {},
     "output_type": "execute_result"
    }
   ],
   "source": [
    "data"
   ]
  },
  {
   "cell_type": "markdown",
   "id": "3ffe2dc2-1f2d-410b-91c9-6d7cab211cd9",
   "metadata": {},
   "source": [
    "<br>\n",
    "\n",
    "**Google Sheet**"
   ]
  },
  {
   "cell_type": "code",
   "execution_count": 8,
   "id": "274cc6f1-e87a-4271-9d0f-fc9141b52c5f",
   "metadata": {},
   "outputs": [
    {
     "data": {
      "text/plain": [
       "{'spreadsheetId': '1Ovz-8PGf62bsTy7EGHU4-Y-aEMyr-qrNxUsrNM0xzDc',\n",
       " 'tableRange': 'Sheet1!A1:B16',\n",
       " 'updates': {'spreadsheetId': '1Ovz-8PGf62bsTy7EGHU4-Y-aEMyr-qrNxUsrNM0xzDc',\n",
       "  'updatedRange': 'Sheet1!A17'}}"
      ]
     },
     "execution_count": 8,
     "metadata": {},
     "output_type": "execute_result"
    }
   ],
   "source": [
    "gs = gspread.service_account(\"prothomalo-credentials.json\")\n",
    "work_book = gs.open(\"prothomalo-scraper\")\n",
    "worksheet = work_book.sheet1\n",
    "worksheet.append_rows(data, value_input_option='RAW')"
   ]
  },
  {
   "cell_type": "code",
   "execution_count": null,
   "id": "07ce0b4f-7ac9-4ad6-839a-99a5057814f0",
   "metadata": {},
   "outputs": [],
   "source": []
  },
  {
   "cell_type": "code",
   "execution_count": null,
   "id": "e6b76ae2-8024-4898-a209-589a6ad37a13",
   "metadata": {},
   "outputs": [],
   "source": []
  }
 ],
 "metadata": {
  "kernelspec": {
   "display_name": "env",
   "language": "python",
   "name": "env"
  },
  "language_info": {
   "codemirror_mode": {
    "name": "ipython",
    "version": 3
   },
   "file_extension": ".py",
   "mimetype": "text/x-python",
   "name": "python",
   "nbconvert_exporter": "python",
   "pygments_lexer": "ipython3",
   "version": "3.9.13"
  }
 },
 "nbformat": 4,
 "nbformat_minor": 5
}

{
 "cells": [
  {
   "cell_type": "code",
   "execution_count": 1,
   "id": "7c0b7e3f-a216-4f84-8ed1-4f213cc7f9f0",
   "metadata": {
    "tags": []
   },
   "outputs": [],
   "source": [
    "from parsel import Selector\n",
    "from playwright.async_api import async_playwright"
   ]
  },
  {
   "cell_type": "code",
   "execution_count": 2,
   "id": "e30e051b-5de0-457a-bfce-f6443d753186",
   "metadata": {},
   "outputs": [],
   "source": [
    "playwright = await async_playwright().start()\n",
    "\n",
    "browser = await playwright.chromium.launch(\n",
    "    # headless=False,\n",
    "    # slow_mo=500,\n",
    "    channel=\"chrome\",\n",
    "    args=[\"--disable-blink-features\", \"--disable-blink-features=AutomationControlled\"],\n",
    ")\n",
    "\n",
    "context = await browser.new_context(\n",
    "    user_agent=\"Mozilla/5.0 (X11; Linux x86_64) AppleWebKit/537.36 (KHTML, like Gecko) Chrome/104.0.0.0 Safari/537.36\",\n",
    ")\n",
    "\n",
    "page = await context.new_page()\n",
    "page.set_default_timeout(0)"
   ]
  },
  {
   "cell_type": "code",
   "execution_count": 3,
   "id": "f1d226f8-6f2f-442c-bb83-9254d51c3bc3",
   "metadata": {},
   "outputs": [
    {
     "data": {
      "text/plain": [
       "<Response url='https://streamelements.com/casinodaddy/store/' request=<Request url='https://streamelements.com/casinodaddy/store/' method='GET'>>"
      ]
     },
     "execution_count": 3,
     "metadata": {},
     "output_type": "execute_result"
    }
   ],
   "source": [
    "await page.goto(\"https://streamelements.com/casinodaddy/store/\")"
   ]
  },
  {
   "cell_type": "code",
   "execution_count": 4,
   "id": "868bc71b-fd55-4256-b0bd-cc4e7494eb02",
   "metadata": {},
   "outputs": [],
   "source": [
    "page.set_default_timeout(5000)"
   ]
  },
  {
   "cell_type": "code",
   "execution_count": 5,
   "id": "4b87312c-659e-4445-96ad-edb4dabcfe75",
   "metadata": {},
   "outputs": [
    {
     "name": "stdout",
     "output_type": "stream",
     "text": [
      "StreamElements - casinodaddy\n"
     ]
    }
   ],
   "source": [
    "html = await page.content()\n",
    "await page.screenshot(path=\"screenshot.png\", full_page=True)\n",
    "print(await page.title())"
   ]
  },
  {
   "cell_type": "code",
   "execution_count": 6,
   "id": "99ba041a-d0b1-4ce5-9fee-df9d14af952a",
   "metadata": {
    "tags": []
   },
   "outputs": [],
   "source": [
    "response = Selector(text=html)"
   ]
  },
  {
   "cell_type": "code",
   "execution_count": 7,
   "id": "13d3e721-9c99-47be-9f77-1e03be71ee3c",
   "metadata": {
    "tags": []
   },
   "outputs": [
    {
     "name": "stdout",
     "output_type": "stream",
     "text": [
      "\n",
      "        Porsche Cayman\n",
      "      \n",
      "\n",
      "        SteelSeries Aerox 9 Gaming mouse Raffle\n",
      "      \n",
      "\n",
      "        Keychron Keychron K8 Pro Raffle\n",
      "      \n",
      "\n",
      "        Mission SG 34\" 144Hz screen Raffle\n",
      "      \n",
      "\n",
      "        Las Vegas trip for 2\n",
      "      \n",
      "\n",
      "        Gaming computer\n",
      "      \n",
      "\n",
      "        5x €200 Bonus buy Raffle on The Doghouse Megaways\n",
      "      \n",
      "\n",
      "        Gamdom $250 Gift Card\n",
      "      \n",
      "\n",
      "        Gamdom $100 Gift Card\n",
      "      \n",
      "\n",
      "        Gamdom $50 Gift Card\n",
      "      \n",
      "\n",
      "        Gamdom $25 Gift Card\n",
      "      \n",
      "\n",
      "        Gamdom $10 Gift Card\n",
      "      \n",
      "\n",
      "        5x €200 Bonus buy Raffle on Fruit Party\n",
      "      \n",
      "\n",
      "        5 x €200 Bonus buy Raffle on Sweet Bonanza\n",
      "      \n"
     ]
    }
   ],
   "source": [
    "h1 = response.xpath(\"//h2\")\n",
    "\n",
    "for h in h1:\n",
    "    heading = h.xpath(\"./text()\").get()\n",
    "    print(heading)"
   ]
  },
  {
   "cell_type": "code",
   "execution_count": null,
   "id": "19143582-2147-4dff-9ac3-2427ad172de1",
   "metadata": {},
   "outputs": [],
   "source": []
  },
  {
   "cell_type": "code",
   "execution_count": 8,
   "id": "9e6b940f-3a2e-49cc-ae7e-45e29c5999d9",
   "metadata": {
    "tags": []
   },
   "outputs": [],
   "source": [
    "await browser.close()\n",
    "await playwright.stop()"
   ]
  },
  {
   "cell_type": "code",
   "execution_count": null,
   "id": "eca97a32-7e55-42eb-b7e7-261fa5361e18",
   "metadata": {},
   "outputs": [],
   "source": []
  }
 ],
 "metadata": {
  "kernelspec": {
   "display_name": "env",
   "language": "python",
   "name": "env"
  },
  "language_info": {
   "codemirror_mode": {
    "name": "ipython",
    "version": 3
   },
   "file_extension": ".py",
   "mimetype": "text/x-python",
   "name": "python",
   "nbconvert_exporter": "python",
   "pygments_lexer": "ipython3",
   "version": "3.10.6"
  }
 },
 "nbformat": 4,
 "nbformat_minor": 5
}

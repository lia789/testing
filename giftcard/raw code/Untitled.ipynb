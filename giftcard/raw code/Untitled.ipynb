{
 "cells": [
  {
   "cell_type": "code",
   "execution_count": null,
   "id": "98650ab8-d25a-446a-974c-83d691e5830e",
   "metadata": {},
   "outputs": [],
   "source": [
    "from parsel import Selector\n",
    "import requests\n",
    "\n",
    "\n",
    "html = requests.get('https://w3schools.com/python/demopage.html')\n",
    "response = Selector(text=html.text)\n",
    "price = response.xpath(\"//h1/text()\").get()\n",
    "\n",
    "\n",
    "if price>10:\n",
    "    # Discord code\n"
   ]
  },
  {
   "cell_type": "code",
   "execution_count": null,
   "id": "6fe7fee6-4203-4cd4-a66d-a9407aa68e69",
   "metadata": {},
   "outputs": [],
   "source": []
  },
  {
   "cell_type": "code",
   "execution_count": null,
   "id": "53d96a18-1de1-403e-9143-c0a0a093dcb4",
   "metadata": {},
   "outputs": [],
   "source": []
  },
  {
   "cell_type": "code",
   "execution_count": null,
   "id": "ca47d81b-9401-4de6-b30c-c930e7d6a99a",
   "metadata": {},
   "outputs": [],
   "source": []
  }
 ],
 "metadata": {
  "kernelspec": {
   "display_name": "env",
   "language": "python",
   "name": "env"
  },
  "language_info": {
   "codemirror_mode": {
    "name": "ipython",
    "version": 3
   },
   "file_extension": ".py",
   "mimetype": "text/x-python",
   "name": "python",
   "nbconvert_exporter": "python",
   "pygments_lexer": "ipython3",
   "version": "3.10.6"
  }
 },
 "nbformat": 4,
 "nbformat_minor": 5
}
